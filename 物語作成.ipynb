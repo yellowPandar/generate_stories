{
  "nbformat": 4,
  "nbformat_minor": 0,
  "metadata": {
    "colab": {
      "provenance": [],
      "authorship_tag": "ABX9TyOdDoltJN4UL6ZfUWWjIUHc",
      "include_colab_link": true
    },
    "kernelspec": {
      "name": "python3",
      "display_name": "Python 3"
    },
    "language_info": {
      "name": "python"
    }
  },
  "cells": [
    {
      "cell_type": "markdown",
      "metadata": {
        "id": "view-in-github",
        "colab_type": "text"
      },
      "source": [
        "<a href=\"https://colab.research.google.com/github/yellowPandar/generate_stories/blob/main/%E7%89%A9%E8%AA%9E%E4%BD%9C%E6%88%90.ipynb\" target=\"_parent\"><img src=\"https://colab.research.google.com/assets/colab-badge.svg\" alt=\"Open In Colab\"/></a>"
      ]
    },
    {
      "cell_type": "markdown",
      "source": [
        "# 物語を作成するAI\n",
        "## 概要\n",
        "*   UIからキーワードを入力する\n",
        "*   そのキーワードを元にChatGPTで300字以内の物語を作成する\n",
        "*   同時に、キーワードから挿絵を作成する\n",
        "\n",
        "## 使用するツール\n",
        "*   ChatGPT4(物語作成と挿絵生成するためのプロンプト作成に使用)\n",
        "*   Dream Studio(画像AI.挿絵生成)\n",
        "*   streamlit(PythonでWebアプリケーションを作成)\n"
      ],
      "metadata": {
        "id": "UfLbRSbhMMH_"
      }
    },
    {
      "cell_type": "markdown",
      "source": [
        "# PIPインストール、API KEYの設定"
      ],
      "metadata": {
        "id": "ue8E-eMfNadP"
      }
    },
    {
      "cell_type": "code",
      "execution_count": 1,
      "metadata": {
        "id": "HgR6p4l-GUm5"
      },
      "outputs": [],
      "source": [
        "%%capture\n",
        "!pip install openai"
      ]
    },
    {
      "cell_type": "code",
      "source": [
        "%%capture\n",
        "pip install stability-sdk"
      ],
      "metadata": {
        "id": "lEG5bKdONiaJ"
      },
      "execution_count": 2,
      "outputs": []
    },
    {
      "cell_type": "code",
      "source": [
        "%%capture\n",
        "!pip install streamlit"
      ],
      "metadata": {
        "id": "5P-4Qp2bNiSM"
      },
      "execution_count": 3,
      "outputs": []
    },
    {
      "cell_type": "code",
      "source": [
        "import os\n",
        "import getpass\n",
        "from typing import List, Dict, Tuple\n",
        "\n",
        "gpt_apikey = getpass.getpass(prompt=\"GPTのAPIキーを入力してください \")\n",
        "\n",
        "os.environ['GPT_KEY'] = gpt_apikey\n",
        "# openai.api_key = gpt_apikey\n"
      ],
      "metadata": {
        "colab": {
          "base_uri": "https://localhost:8080/"
        },
        "id": "SZ92jNuLGcdt",
        "outputId": "cc407558-a063-43c4-9a72-3dbc1aac44b1"
      },
      "execution_count": 4,
      "outputs": [
        {
          "name": "stdout",
          "output_type": "stream",
          "text": [
            "GPTのAPIキーを入力してください ··········\n"
          ]
        }
      ]
    },
    {
      "cell_type": "code",
      "source": [
        "import os\n",
        "import getpass\n",
        "from typing import List, Dict, Tuple\n",
        "\n",
        "stability_apikey = getpass.getpass(prompt=\"stabilityのAPIキーを入力してください \")\n",
        "\n",
        "os.environ['STABILITY_KEY'] = stability_apikey"
      ],
      "metadata": {
        "colab": {
          "base_uri": "https://localhost:8080/"
        },
        "id": "wNMgkE2HGcVk",
        "outputId": "df7c4728-9b12-48b8-e8bd-82b666c1d618"
      },
      "execution_count": 5,
      "outputs": [
        {
          "name": "stdout",
          "output_type": "stream",
          "text": [
            "stabilityのAPIキーを入力してください ··········\n"
          ]
        }
      ]
    },
    {
      "cell_type": "markdown",
      "source": [
        "### KEYを削除"
      ],
      "metadata": {
        "id": "d4ePD-noO55_"
      }
    },
    {
      "cell_type": "code",
      "source": [
        "os.environ['GPT_KEY'] = ''\n",
        "os.environ['STABILITY_KEY'] = ''\n",
        "print(\"GPT_KEY:\"+os.environ['GPT_KEY'] )\n",
        "print(\"STABILITY_KEY:\"+os.environ['STABILITY_KEY'] )"
      ],
      "metadata": {
        "colab": {
          "base_uri": "https://localhost:8080/"
        },
        "id": "empC1LrTGcMc",
        "outputId": "d000725b-587c-457b-b2a3-64a9e91d92b0"
      },
      "execution_count": null,
      "outputs": [
        {
          "output_type": "stream",
          "name": "stdout",
          "text": [
            "GPT_KEY:\n",
            "STABILITY_KEY:\n"
          ]
        }
      ]
    },
    {
      "cell_type": "markdown",
      "source": [
        "# アプリケーション公開\n",
        "※作業が終わったら必ず公開を停止すること！！！"
      ],
      "metadata": {
        "id": "P6bI4UGTN_mK"
      }
    },
    {
      "cell_type": "code",
      "source": [
        "from google.colab import files\n",
        "# files.view(\"story\")\n",
        "files.view(\"story/create_stories.py\")\n"
      ],
      "metadata": {
        "colab": {
          "base_uri": "https://localhost:8080/",
          "height": 17
        },
        "id": "knDF1G2nNnTu",
        "outputId": "0429be28-acf9-42b2-dcc6-b6884b06ed06"
      },
      "execution_count": 6,
      "outputs": [
        {
          "output_type": "display_data",
          "data": {
            "text/plain": [
              "<IPython.core.display.Javascript object>"
            ],
            "application/javascript": [
              "\n",
              "      ((filepath) => {{\n",
              "        if (!google.colab.kernel.accessAllowed) {{\n",
              "          return;\n",
              "        }}\n",
              "        google.colab.files.view(filepath);\n",
              "      }})(\"/content/story/create_stories.py\")"
            ]
          },
          "metadata": {}
        }
      ]
    },
    {
      "cell_type": "markdown",
      "source": [
        "### IPアドレスの取得"
      ],
      "metadata": {
        "id": "o647A-zBOVMr"
      }
    },
    {
      "cell_type": "code",
      "source": [
        "!wget -q -O - ipv4.icanhazip.com"
      ],
      "metadata": {
        "colab": {
          "base_uri": "https://localhost:8080/"
        },
        "id": "GYAv2nOvVRr3",
        "outputId": "1cc1612b-4b48-4aec-a1fa-aa034f89c54f"
      },
      "execution_count": 7,
      "outputs": [
        {
          "output_type": "stream",
          "name": "stdout",
          "text": [
            "34.90.174.241\n"
          ]
        }
      ]
    },
    {
      "cell_type": "markdown",
      "source": [
        "### story/create_stories.pyを公開"
      ],
      "metadata": {
        "id": "KehVBBNIOZyv"
      }
    },
    {
      "cell_type": "code",
      "source": [
        "!streamlit run story/create_stories.py & sleep 3 && npx localtunnel --port 8501"
      ],
      "metadata": {
        "id": "ppQcGSvmVReh",
        "colab": {
          "base_uri": "https://localhost:8080/"
        },
        "outputId": "f1752eb8-48c0-4218-c4dd-d7eddf77352c"
      },
      "execution_count": null,
      "outputs": [
        {
          "output_type": "stream",
          "name": "stdout",
          "text": [
            "\n",
            "Collecting usage statistics. To deactivate, set browser.gatherUsageStats to False.\n",
            "\u001b[0m\n",
            "\u001b[0m\n",
            "\u001b[34m\u001b[1m  You can now view your Streamlit app in your browser.\u001b[0m\n",
            "\u001b[0m\n",
            "\u001b[34m  Network URL: \u001b[0m\u001b[1mhttp://172.28.0.12:8501\u001b[0m\n",
            "\u001b[34m  External URL: \u001b[0m\u001b[1mhttp://34.90.174.241:8501\u001b[0m\n",
            "\u001b[0m\n",
            "\u001b[K\u001b[?25hnpx: installed 22 in 4.065s\n",
            "your url is: https://breezy-wolves-wish.loca.lt\n"
          ]
        }
      ]
    },
    {
      "cell_type": "markdown",
      "source": [
        "# 参考\n",
        "colab上でgptを実行する"
      ],
      "metadata": {
        "id": "tlRzUumgOnke"
      }
    },
    {
      "cell_type": "code",
      "source": [
        "def get_chatgpt_response(\n",
        "    user_input: str,\n",
        "    template: str,\n",
        "    model: str = \"gpt-3.5-turbo-0613\",\n",
        "    # model: str = \"gpt-4\",\n",
        "    temperature: float = 0,\n",
        "    max_tokens: int = 500,\n",
        "):\n",
        "    \"\"\"\n",
        "    ChatGPTに対して対話を投げかけ、返答を取得する\n",
        "    \"\"\"\n",
        "    prompt = template.format(user_input=user_input)\n",
        "    # print(prompt)\n",
        "    messages = [{\"role\": \"user\", \"content\": prompt}]\n",
        "    response = openai.ChatCompletion.create(\n",
        "        model=model,\n",
        "        messages=messages,\n",
        "        temperature=temperature,\n",
        "        max_tokens=max_tokens,\n",
        "    )\n",
        "    # return response.choices[0].message[\"content\"]\n",
        "    return response"
      ],
      "metadata": {
        "id": "psVlyAAnNnOh"
      },
      "execution_count": null,
      "outputs": []
    },
    {
      "cell_type": "code",
      "source": [
        "PROMPT_TEMPLATE = \"\"\"\n",
        "    下記の####で区切られたユーザーからのリクエストがあります。\n",
        "    入力文章を、dream studioに入力するプロンプトに変換してください。出力は、英語で、dream studio に入力するプロンプトのみでお願いします\n",
        "    ####\n",
        "    {user_input}\n",
        "    ####\n",
        "    \"\"\"\n"
      ],
      "metadata": {
        "id": "KzYcYwE5OiWr"
      },
      "execution_count": null,
      "outputs": []
    },
    {
      "cell_type": "code",
      "source": [
        "print(get_chatgpt_response(\"宮崎駿風のうさぎ\", PROMPT_TEMPLATE))"
      ],
      "metadata": {
        "colab": {
          "base_uri": "https://localhost:8080/"
        },
        "id": "Wd9yJBSROk39",
        "outputId": "e891d187-b271-4ee7-92e9-c408d685cead"
      },
      "execution_count": null,
      "outputs": [
        {
          "output_type": "stream",
          "name": "stdout",
          "text": [
            "\"A rabbit in the style of Hayao Miyazaki\"\n"
          ]
        }
      ]
    },
    {
      "cell_type": "code",
      "source": [
        "PROMPT_TEMPLATE = \"\"\"\n",
        "    下記の####で区切られたユーザーからのリクエストがあります。\n",
        "    リクエストから、5歳児向けの物語を考えてください。300字以内でお願いします\n",
        "    ####\n",
        "    {user_input}\n",
        "    ####\n",
        "    \"\"\"\n"
      ],
      "metadata": {
        "id": "Q4lG_wIGSRZV"
      },
      "execution_count": null,
      "outputs": []
    }
  ]
}